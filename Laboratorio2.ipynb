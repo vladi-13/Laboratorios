{
 "cells": [
  {
   "cell_type": "markdown",
   "metadata": {},
   "source": [
    "##  Piza Nava Vladimir - 111-494\n",
    "\n",
    "\n",
    "## Laboratorio 2 \n",
    "\n",
    "## Link al repositorio:\n",
    "\n",
    "## Link al dataset: https://www.kaggle.com/datasets/vladi13/dataset-flores-piza-nava-vladimir"
   ]
  },
  {
   "cell_type": "markdown",
   "metadata": {},
   "source": [
    "### Resumen de pasos:\n",
    "1. **Importaciones**: Se importan módulos de PyTorch, transformaciones de imágenes y herramientas para manejo de datos.\n",
    "2. **Configuración de DirectML**: Se configura DirectML como dispositivo para ejecutar operaciones en la GPU de AMD, si está disponible.\n",
    "3. **Impresión de dispositivo**: Se imprime el dispositivo que se está utilizando (DirectML).\n"
   ]
  },
  {
   "cell_type": "code",
   "execution_count": null,
   "metadata": {},
   "outputs": [
    {
     "name": "stdout",
     "output_type": "stream",
     "text": [
      "Usando DirectML en: privateuseone:0\n"
     ]
    }
   ],
   "source": [
    "import os\n",
    "import torch\n",
    "import torch.nn as nn\n",
    "import torch.optim as optim\n",
    "import torchvision.transforms as transforms\n",
    "import time\n",
    "import pandas as pd\n",
    "import numpy as np\n",
    "from torch.utils.data import Dataset, DataLoader\n",
    "from PIL import Image\n",
    "import torch_directml  # Importar DirectML\n",
    "\n",
    "# Configurar DirectML\n",
    "device = torch_directml.device()\n",
    "print(f\"Usando DirectML en: {device}\")"
   ]
  },
  {
   "cell_type": "markdown",
   "metadata": {},
   "source": [
    "### Explicación General del Código\n",
    "\n",
    "Este código prepara un conjunto de datos de imágenes de flores para su uso en un modelo de aprendizaje automático.\n",
    "\n",
    "1. **Transformaciones de Imágenes:** Redimensiona las imágenes a 64x64 píxeles, las convierte a tensores y las normaliza para facilitar el entrenamiento.\n",
    "\n",
    "2. **Carga y Preprocesamiento:** Carga un archivo CSV con rutas de imágenes y etiquetas, y convierte las etiquetas de texto a valores numéricos.\n",
    "\n",
    "3. **División del Dataset:** Divide el conjunto de datos en dos partes: una para entrenamiento y otra para validación.\n",
    "\n",
    "4. **Dataset Personalizado:** Define una clase para cargar imágenes y aplicar transformaciones.\n",
    "\n",
    "5. **Dataloaders:** Utiliza Dataloaders para gestionar la distribución de los datos en lotes y su carga eficiente durante el entrenamiento.\n",
    "\n",
    "Este proceso prepara los datos para entrenar un modelo de clasificación de imágenes en PyTorch."
   ]
  },
  {
   "cell_type": "code",
   "execution_count": 2,
   "metadata": {},
   "outputs": [],
   "source": [
    "# Transformaciones simples para acelerar el proceso\n",
    "transform = transforms.Compose([\n",
    "    transforms.Resize((64, 64)),  # Redimensiona las imágenes a 64x64\n",
    "    transforms.ToTensor(),\n",
    "    transforms.Normalize(mean=[0.485, 0.456, 0.406], std=[0.229, 0.224, 0.225])\n",
    "])\n",
    "\n",
    "# Cargar CSV con rutas y etiquetas\n",
    "df = pd.read_csv('dataset_flores.csv')\n",
    "\n",
    "# Convertir etiquetas a números\n",
    "label_mapping = {label: idx for idx, label in enumerate(df['label'].unique())}\n",
    "df['label'] = df['label'].map(label_mapping)\n",
    "\n",
    "# Dividir en entrenamiento y validación\n",
    "train_df = df.sample(frac=0.8, random_state=42)\n",
    "val_df = df.drop(train_df.index)\n",
    "\n",
    "class FlowerDataset(Dataset):\n",
    "    def __init__(self, dataframe, transform=None):\n",
    "        self.data = dataframe\n",
    "        self.transform = transform\n",
    "\n",
    "    def __len__(self):\n",
    "        return len(self.data)\n",
    "\n",
    "    def __getitem__(self, idx):\n",
    "        image_path = self.data.iloc[idx, 0]\n",
    "        label = self.data.iloc[idx, 1]\n",
    "        image = Image.open(image_path).convert(\"RGB\")  # Aquí se usa Image para abrir la imagen\n",
    "        if self.transform:\n",
    "            image = self.transform(image)\n",
    "        return image, label\n",
    "    \n",
    "# Cargar datasets\n",
    "dataset = {\n",
    "    'train': FlowerDataset(train_df, transform=transform),\n",
    "    'val': FlowerDataset(val_df, transform=transform)\n",
    "}\n",
    "\n",
    "dataloader = {\n",
    "    'train': DataLoader(dataset['train'], batch_size=256, shuffle=True, num_workers=0, pin_memory=True),\n",
    "    'val': DataLoader(dataset['val'], batch_size=256, shuffle=False, num_workers=0, pin_memory=True)\n",
    "}"
   ]
  },
  {
   "cell_type": "markdown",
   "metadata": {},
   "source": [
    "## Explicación General del Código\n",
    "\n",
    "### `build_model`\n",
    "Crea un modelo de **perceptrón multicapa (MLP)** en PyTorch con:\n",
    "1. **Capa de entrada**: Aplana la imagen para que pase a las capas lineales.\n",
    "2. **Capas ocultas**: Dos capas lineales con activación ReLU, normalización y dropout (para prevenir sobreajuste).\n",
    "3. **Capa de salida**: Predice la clase con un número de unidades igual a las clases del dataset.\n",
    "4. El modelo se transfiere al dispositivo con tipo de dato `float32`.\n",
    "\n",
    "### `EarlyStopping`\n",
    "La clase **early stopping** detiene el entrenamiento si la pérdida de validación no mejora después de un número de épocas (definido por `patience`), ayudando a prevenir sobreajuste y ahorrar tiempo de cómputo.\n",
    "\n",
    "### Resumen:\n",
    "- **MLP**: Red neuronal con capas lineales y regularización.\n",
    "- **Early Stopping**: Detiene el entrenamiento si no hay mejora en la pérdida."
   ]
  },
  {
   "cell_type": "code",
   "execution_count": 3,
   "metadata": {},
   "outputs": [],
   "source": [
    "def build_model(input_size=64*64*3, hidden_size=128, output_size=len(label_mapping), dropout=0.5):\n",
    "    return nn.Sequential(\n",
    "        nn.Flatten(),  # Aplana la imagen para pasarla a la capa Linear\n",
    "        nn.Linear(input_size, hidden_size, dtype=torch.float32),\n",
    "        nn.BatchNorm1d(hidden_size, dtype=torch.float32),\n",
    "        nn.ReLU(),\n",
    "        nn.Dropout(dropout),\n",
    "\n",
    "        nn.Linear(hidden_size, 50, dtype=torch.float32),\n",
    "        nn.BatchNorm1d(50, dtype=torch.float32),\n",
    "        nn.ReLU(),\n",
    "        nn.Dropout(dropout),\n",
    "\n",
    "        nn.Linear(50, output_size, dtype=torch.float32)\n",
    "    ).to(device, dtype=torch.float32)\n",
    "\n",
    "class EarlyStopping:\n",
    "    def __init__(self, patience=5, delta=0):\n",
    "        self.patience = patience  # Número de épocas sin mejora antes de detenerse\n",
    "        self.delta = delta  # Mínima mejora en la pérdida para ser considerada una mejora\n",
    "        self.best_loss = np.inf  # La mejor pérdida observada\n",
    "        self.counter = 0  # Contador de épocas sin mejora\n",
    "        self.stop_training = False  # Bandera para detener el entrenamiento\n",
    "\n",
    "    def __call__(self, val_loss):\n",
    "        if val_loss < self.best_loss - self.delta:  # Si la pérdida mejora\n",
    "            self.best_loss = val_loss\n",
    "            self.counter = 0  # Resetea el contador\n",
    "        else:\n",
    "            self.counter += 1  # Incrementa el contador\n",
    "\n",
    "        if self.counter >= self.patience:  # Si supera el número de épocas sin mejora\n",
    "            self.stop_training = True\n",
    "            print(\"⏸️ Early stopping activado: No hubo mejora después de\", self.patience, \"épocas.\")"
   ]
  },
  {
   "cell_type": "markdown",
   "metadata": {},
   "source": [
    "# Explicación del Código para Entrenamiento con Early Stopping y Checkpoints\n",
    "\n",
    "Este código entrena un modelo de red neuronal en PyTorch, utilizando **Early Stopping**, **Checkpoints** y barras de progreso con **tqdm**.\n",
    "\n",
    "## Función Principal: `train_model_with_early_stopping`\n",
    "\n",
    "### Parámetros\n",
    "\n",
    "- **model**: El modelo a entrenar.\n",
    "- **dataloader**: Contiene los conjuntos de datos de entrenamiento y validación.\n",
    "- **epochs**: Número de épocas de entrenamiento.\n",
    "- **log_each**: Frecuencia para mostrar los resultados del entrenamiento.\n",
    "- **checkpoint_interval**: Intervalo para guardar checkpoints del modelo.\n",
    "- **patience**: Número de épocas sin mejora en la validación antes de detener el entrenamiento (Early Stopping).\n",
    "\n",
    "### Funcionamiento\n",
    "\n",
    "1. **Inicialización**: \n",
    "   - Se define la **función de pérdida** (`CrossEntropyLoss`) y el **optimizador** (Adam).\n",
    "   \n",
    "2. **Entrenamiento**:\n",
    "   - Durante cada época, el modelo entrena usando lotes de datos, actualizando los pesos con el optimizador.\n",
    "   - **tqdm** muestra el progreso de cada época.\n",
    "\n",
    "3. **Evaluación**:\n",
    "   - Después de cada época, se evalúa el modelo con el conjunto de validación, calculando la precisión y la pérdida.\n",
    "\n",
    "4. **Guardado del Mejor Modelo**:\n",
    "   - Si la precisión en validación mejora, los pesos del modelo se guardan como el mejor modelo.\n",
    "\n",
    "5. **Checkpoint**:\n",
    "   - Se guardan checkpoints cada `checkpoint_interval` épocas.\n",
    "\n",
    "6. **Early Stopping**:\n",
    "   - Si no hay mejora en la pérdida de validación, el entrenamiento se detiene antes de completar todas las épocas.\n",
    "\n",
    "### Resumen\n",
    "\n",
    "El código entrena el modelo y, durante el proceso, evalúa su rendimiento en validación, guarda el mejor modelo, y usa Early Stopping para evitar sobreajuste. También se guardan checkpoints periódicos."
   ]
  },
  {
   "cell_type": "code",
   "execution_count": 17,
   "metadata": {},
   "outputs": [],
   "source": [
    "import time\n",
    "import torch.optim as optim\n",
    "from tqdm import tqdm  # Importamos tqdm\n",
    "\n",
    "def train_model_with_early_stopping(model, dataloader, epochs=15, log_each=5, checkpoint_interval=5, patience=2):\n",
    "    criterion = nn.CrossEntropyLoss()\n",
    "    optimizer = optim.Adam(model.parameters(), lr=0.001)\n",
    "    \n",
    "    early_stopping = EarlyStopping(patience=patience)  # Inicializar EarlyStopping\n",
    "    best_model_wts = model.state_dict()  # Para guardar el mejor modelo\n",
    "    best_val_acc = 0.0  # Para comparar la precisión de validación\n",
    "\n",
    "    # Bucle de épocas con tqdm\n",
    "    for epoch in range(1, epochs + 1):\n",
    "        model.train()\n",
    "        total_loss, correct, total = 0, 0, 0\n",
    "        start_time = time.time()\n",
    "\n",
    "        # Entrenamiento con tqdm para lotes (batches)\n",
    "        with tqdm(total=len(dataloader['train']), desc=f\"Epoch {epoch}/{epochs} | Training\", ncols=100) as pbar:\n",
    "            for batch_idx, (images, labels) in enumerate(dataloader['train']):\n",
    "                images, labels = images.to(device), labels.to(device)\n",
    "                optimizer.zero_grad()\n",
    "                outputs = model(images)\n",
    "                loss = criterion(outputs, labels)\n",
    "                loss.backward()\n",
    "                optimizer.step()\n",
    "\n",
    "                total_loss += loss.item()\n",
    "                correct += (outputs.argmax(1) == labels).sum().item()\n",
    "                total += labels.size(0)\n",
    "\n",
    "                # Actualiza la barra de progreso de los lotes\n",
    "                pbar.set_postfix(loss=loss.item(), accuracy=correct / total)\n",
    "                pbar.update(1)\n",
    "\n",
    "        train_acc = correct / total\n",
    "        elapsed_time = time.time() - start_time\n",
    "        # Mostramos solo la información de la época\n",
    "        print(f\"Epoch {epoch}/{epochs} | Training: {pbar.n / len(dataloader['train']):.0%}| {pbar.n}/{len(dataloader['train'])} \"\n",
    "              f\"[{elapsed_time:.2f}s, accuracy={train_acc:.3f}, loss={total_loss/len(dataloader['train']):.3f}]\")\n",
    "\n",
    "        # Evaluación en el conjunto de validación (sin barra de progreso en validación)\n",
    "        model.eval()\n",
    "        val_loss, val_correct, val_total = 0, 0, 0\n",
    "        with torch.no_grad():\n",
    "            for images, labels in dataloader['val']:\n",
    "                images, labels = images.to(device), labels.to(device)\n",
    "                outputs = model(images)\n",
    "                loss = criterion(outputs, labels)\n",
    "                val_loss += loss.item()\n",
    "                val_correct += (outputs.argmax(1) == labels).sum().item()\n",
    "                val_total += labels.size(0)\n",
    "\n",
    "        val_loss /= len(dataloader['val'])\n",
    "        val_acc = val_correct / val_total\n",
    "        print(f\"🔵 Epoch {epoch}/{epochs} | Val Loss: {val_loss:.4f} | Val Acc: {val_acc:.4f}\")\n",
    "\n",
    "        # Guardar el mejor modelo\n",
    "        if val_acc > best_val_acc:\n",
    "            best_val_acc = val_acc\n",
    "            best_model_wts = model.state_dict()  # Guardar los pesos del mejor modelo\n",
    "            torch.save(model.state_dict(), \"best_model_3.pth\")  # Guardar como best_model_3.pth\n",
    "            print(f\"🌟 Nuevo mejor modelo guardado como best_model_3.pth con Val Acc: {best_val_acc:.4f}\")\n",
    "\n",
    "        # Checkpoint\n",
    "        if epoch % checkpoint_interval == 0:\n",
    "            checkpoint_path = f\"checkpoints/mlp_epoch_{epoch}.pth\"\n",
    "            torch.save(model.state_dict(), checkpoint_path)\n",
    "            print(f\"✅ Checkpoint guardado en: {checkpoint_path}\")\n",
    "\n",
    "        # Llamar a EarlyStopping\n",
    "        early_stopping(val_loss)\n",
    "        if early_stopping.stop_training:\n",
    "            break  # Detener el entrenamiento si no hay mejora\n",
    "\n",
    "    # Cargar el mejor modelo\n",
    "    model.load_state_dict(best_model_wts)\n",
    "    return model"
   ]
  },
  {
   "cell_type": "markdown",
   "metadata": {},
   "source": [
    "# Entrenamiento con Early Stopping y Checkpoints\n",
    "\n",
    "Este código entrena un modelo de red neuronal con las siguientes características:\n",
    "\n",
    "1. **Creación del Modelo**: Se usa `build_model()` para definir la arquitectura.\n",
    "2. **Entrenamiento**: Se entrena con la función `train_model_with_early_stopping` que incluye:\n",
    "   - **`epochs=100`**: Número de épocas.\n",
    "   - **`log_each=5`**: Frecuencia de logs.\n",
    "   - **`checkpoint_interval=20`**: Guardado de checkpoints cada 20 épocas.\n",
    "   - **`patience=5`**: Early stopping si no hay mejora tras 5 épocas.\n",
    "\n",
    "Este enfoque optimiza el entrenamiento evitando el sobreajuste y guardando modelos periódicamente."
   ]
  },
  {
   "cell_type": "code",
   "execution_count": 18,
   "metadata": {},
   "outputs": [
    {
     "name": "stderr",
     "output_type": "stream",
     "text": [
      "Epoch 1/15 | Training: 100%|██████████| 157/157 [03:30<00:00,  1.34s/it, accuracy=0.707, loss=0.529]\n"
     ]
    },
    {
     "name": "stdout",
     "output_type": "stream",
     "text": [
      "Epoch 1/15 | Training: 100%| 157/157 [210.24s, accuracy=0.707, loss=0.836]\n",
      "🔵 Epoch 1/15 | Val Loss: 0.4312 | Val Acc: 0.8576\n",
      "🌟 Nuevo mejor modelo guardado como best_model_3.pth con Val Acc: 0.8576\n"
     ]
    },
    {
     "name": "stderr",
     "output_type": "stream",
     "text": [
      "Epoch 2/15 | Training: 100%|██████████| 157/157 [03:30<00:00,  1.34s/it, accuracy=0.823, loss=0.527]\n"
     ]
    },
    {
     "name": "stdout",
     "output_type": "stream",
     "text": [
      "Epoch 2/15 | Training: 100%| 157/157 [210.04s, accuracy=0.823, loss=0.518]\n",
      "🔵 Epoch 2/15 | Val Loss: 0.3157 | Val Acc: 0.8910\n",
      "🌟 Nuevo mejor modelo guardado como best_model_3.pth con Val Acc: 0.8910\n"
     ]
    },
    {
     "name": "stderr",
     "output_type": "stream",
     "text": [
      "Epoch 3/15 | Training: 100%|██████████| 157/157 [03:25<00:00,  1.31s/it, accuracy=0.851, loss=0.511]\n"
     ]
    },
    {
     "name": "stdout",
     "output_type": "stream",
     "text": [
      "Epoch 3/15 | Training: 100%| 157/157 [205.77s, accuracy=0.851, loss=0.439]\n",
      "🔵 Epoch 3/15 | Val Loss: 0.2782 | Val Acc: 0.9070\n",
      "🌟 Nuevo mejor modelo guardado como best_model_3.pth con Val Acc: 0.9070\n"
     ]
    },
    {
     "name": "stderr",
     "output_type": "stream",
     "text": [
      "Epoch 4/15 | Training: 100%|██████████| 157/157 [03:28<00:00,  1.33s/it, accuracy=0.864, loss=0.263]\n"
     ]
    },
    {
     "name": "stdout",
     "output_type": "stream",
     "text": [
      "Epoch 4/15 | Training: 100%| 157/157 [208.06s, accuracy=0.864, loss=0.402]\n",
      "🔵 Epoch 4/15 | Val Loss: 0.2550 | Val Acc: 0.9113\n",
      "🌟 Nuevo mejor modelo guardado como best_model_3.pth con Val Acc: 0.9113\n"
     ]
    },
    {
     "name": "stderr",
     "output_type": "stream",
     "text": [
      "Epoch 5/15 | Training: 100%|██████████| 157/157 [03:28<00:00,  1.33s/it, accuracy=0.877, loss=0.335]\n"
     ]
    },
    {
     "name": "stdout",
     "output_type": "stream",
     "text": [
      "Epoch 5/15 | Training: 100%| 157/157 [208.78s, accuracy=0.877, loss=0.367]\n",
      "🔵 Epoch 5/15 | Val Loss: 0.2375 | Val Acc: 0.9180\n",
      "🌟 Nuevo mejor modelo guardado como best_model_3.pth con Val Acc: 0.9180\n"
     ]
    },
    {
     "ename": "RuntimeError",
     "evalue": "Parent directory checkpoints does not exist.",
     "output_type": "error",
     "traceback": [
      "\u001b[1;31m---------------------------------------------------------------------------\u001b[0m",
      "\u001b[1;31mRuntimeError\u001b[0m                              Traceback (most recent call last)",
      "Cell \u001b[1;32mIn[18], line 5\u001b[0m\n\u001b[0;32m      2\u001b[0m model \u001b[38;5;241m=\u001b[39m build_model()\n\u001b[0;32m      4\u001b[0m \u001b[38;5;66;03m# Entrenar el modelo con early stopping, checkpoints y exportación\u001b[39;00m\n\u001b[1;32m----> 5\u001b[0m history \u001b[38;5;241m=\u001b[39m \u001b[43mtrain_model_with_early_stopping\u001b[49m\u001b[43m(\u001b[49m\n\u001b[0;32m      6\u001b[0m \u001b[43m    \u001b[49m\u001b[43mmodel\u001b[49m\u001b[43m,\u001b[49m\u001b[43m \u001b[49m\n\u001b[0;32m      7\u001b[0m \u001b[43m    \u001b[49m\u001b[43mdataloader\u001b[49m\u001b[43m,\u001b[49m\u001b[43m \u001b[49m\n\u001b[0;32m      8\u001b[0m \u001b[43m    \u001b[49m\u001b[43mepochs\u001b[49m\u001b[38;5;241;43m=\u001b[39;49m\u001b[38;5;241;43m15\u001b[39;49m\u001b[43m,\u001b[49m\u001b[43m  \u001b[49m\u001b[38;5;66;43;03m# Número total de épocas (puedes ajustarlo)\u001b[39;49;00m\n\u001b[0;32m      9\u001b[0m \u001b[43m    \u001b[49m\u001b[43mlog_each\u001b[49m\u001b[38;5;241;43m=\u001b[39;49m\u001b[38;5;241;43m5\u001b[39;49m\u001b[43m,\u001b[49m\u001b[43m \u001b[49m\n\u001b[0;32m     10\u001b[0m \u001b[43m    \u001b[49m\u001b[43mcheckpoint_interval\u001b[49m\u001b[38;5;241;43m=\u001b[39;49m\u001b[38;5;241;43m5\u001b[39;49m\u001b[43m,\u001b[49m\u001b[43m \u001b[49m\n\u001b[0;32m     11\u001b[0m \u001b[43m    \u001b[49m\u001b[43mpatience\u001b[49m\u001b[38;5;241;43m=\u001b[39;49m\u001b[38;5;241;43m2\u001b[39;49m\u001b[43m  \u001b[49m\u001b[38;5;66;43;03m# Detener si no hay mejora después de 10 épocas\u001b[39;49;00m\n\u001b[0;32m     12\u001b[0m \u001b[43m)\u001b[49m\n",
      "Cell \u001b[1;32mIn[17], line 69\u001b[0m, in \u001b[0;36mtrain_model_with_early_stopping\u001b[1;34m(model, dataloader, epochs, log_each, checkpoint_interval, patience)\u001b[0m\n\u001b[0;32m     67\u001b[0m \u001b[38;5;28;01mif\u001b[39;00m epoch \u001b[38;5;241m%\u001b[39m checkpoint_interval \u001b[38;5;241m==\u001b[39m \u001b[38;5;241m0\u001b[39m:\n\u001b[0;32m     68\u001b[0m     checkpoint_path \u001b[38;5;241m=\u001b[39m \u001b[38;5;124mf\u001b[39m\u001b[38;5;124m\"\u001b[39m\u001b[38;5;124mcheckpoints/mlp_epoch_\u001b[39m\u001b[38;5;132;01m{\u001b[39;00mepoch\u001b[38;5;132;01m}\u001b[39;00m\u001b[38;5;124m.pth\u001b[39m\u001b[38;5;124m\"\u001b[39m\n\u001b[1;32m---> 69\u001b[0m     \u001b[43mtorch\u001b[49m\u001b[38;5;241;43m.\u001b[39;49m\u001b[43msave\u001b[49m\u001b[43m(\u001b[49m\u001b[43mmodel\u001b[49m\u001b[38;5;241;43m.\u001b[39;49m\u001b[43mstate_dict\u001b[49m\u001b[43m(\u001b[49m\u001b[43m)\u001b[49m\u001b[43m,\u001b[49m\u001b[43m \u001b[49m\u001b[43mcheckpoint_path\u001b[49m\u001b[43m)\u001b[49m\n\u001b[0;32m     70\u001b[0m     \u001b[38;5;28mprint\u001b[39m(\u001b[38;5;124mf\u001b[39m\u001b[38;5;124m\"\u001b[39m\u001b[38;5;124m✅ Checkpoint guardado en: \u001b[39m\u001b[38;5;132;01m{\u001b[39;00mcheckpoint_path\u001b[38;5;132;01m}\u001b[39;00m\u001b[38;5;124m\"\u001b[39m)\n\u001b[0;32m     72\u001b[0m \u001b[38;5;66;03m# Llamar a EarlyStopping\u001b[39;00m\n",
      "File \u001b[1;32mc:\\Users\\vladi\\OneDrive\\Documentos\\Universidad\\Sexto Semestre\\SIS421\\Laboratorio\\Laboratorio 3\\entorno\\lib\\site-packages\\torch\\serialization.py:651\u001b[0m, in \u001b[0;36msave\u001b[1;34m(obj, f, pickle_module, pickle_protocol, _use_new_zipfile_serialization, _disable_byteorder_record)\u001b[0m\n\u001b[0;32m    648\u001b[0m _check_save_filelike(f)\n\u001b[0;32m    650\u001b[0m \u001b[38;5;28;01mif\u001b[39;00m _use_new_zipfile_serialization:\n\u001b[1;32m--> 651\u001b[0m     \u001b[38;5;28;01mwith\u001b[39;00m \u001b[43m_open_zipfile_writer\u001b[49m\u001b[43m(\u001b[49m\u001b[43mf\u001b[49m\u001b[43m)\u001b[49m \u001b[38;5;28;01mas\u001b[39;00m opened_zipfile:\n\u001b[0;32m    652\u001b[0m         _save(obj, opened_zipfile, pickle_module, pickle_protocol, _disable_byteorder_record)\n\u001b[0;32m    653\u001b[0m         \u001b[38;5;28;01mreturn\u001b[39;00m\n",
      "File \u001b[1;32mc:\\Users\\vladi\\OneDrive\\Documentos\\Universidad\\Sexto Semestre\\SIS421\\Laboratorio\\Laboratorio 3\\entorno\\lib\\site-packages\\torch\\serialization.py:525\u001b[0m, in \u001b[0;36m_open_zipfile_writer\u001b[1;34m(name_or_buffer)\u001b[0m\n\u001b[0;32m    523\u001b[0m \u001b[38;5;28;01melse\u001b[39;00m:\n\u001b[0;32m    524\u001b[0m     container \u001b[38;5;241m=\u001b[39m _open_zipfile_writer_buffer\n\u001b[1;32m--> 525\u001b[0m \u001b[38;5;28;01mreturn\u001b[39;00m \u001b[43mcontainer\u001b[49m\u001b[43m(\u001b[49m\u001b[43mname_or_buffer\u001b[49m\u001b[43m)\u001b[49m\n",
      "File \u001b[1;32mc:\\Users\\vladi\\OneDrive\\Documentos\\Universidad\\Sexto Semestre\\SIS421\\Laboratorio\\Laboratorio 3\\entorno\\lib\\site-packages\\torch\\serialization.py:496\u001b[0m, in \u001b[0;36m_open_zipfile_writer_file.__init__\u001b[1;34m(self, name)\u001b[0m\n\u001b[0;32m    494\u001b[0m     \u001b[38;5;28msuper\u001b[39m()\u001b[38;5;241m.\u001b[39m\u001b[38;5;21m__init__\u001b[39m(torch\u001b[38;5;241m.\u001b[39m_C\u001b[38;5;241m.\u001b[39mPyTorchFileWriter(\u001b[38;5;28mself\u001b[39m\u001b[38;5;241m.\u001b[39mfile_stream))\n\u001b[0;32m    495\u001b[0m \u001b[38;5;28;01melse\u001b[39;00m:\n\u001b[1;32m--> 496\u001b[0m     \u001b[38;5;28msuper\u001b[39m()\u001b[38;5;241m.\u001b[39m\u001b[38;5;21m__init__\u001b[39m(\u001b[43mtorch\u001b[49m\u001b[38;5;241;43m.\u001b[39;49m\u001b[43m_C\u001b[49m\u001b[38;5;241;43m.\u001b[39;49m\u001b[43mPyTorchFileWriter\u001b[49m\u001b[43m(\u001b[49m\u001b[38;5;28;43mself\u001b[39;49m\u001b[38;5;241;43m.\u001b[39;49m\u001b[43mname\u001b[49m\u001b[43m)\u001b[49m)\n",
      "\u001b[1;31mRuntimeError\u001b[0m: Parent directory checkpoints does not exist."
     ]
    }
   ],
   "source": [
    "# Crear el modelo\n",
    "model = build_model()\n",
    "\n",
    "# Entrenar el modelo con early stopping, checkpoints y exportación\n",
    "history = train_model_with_early_stopping(\n",
    "    model, \n",
    "    dataloader, \n",
    "    epochs=15,  # Número total de épocas (puedes ajustarlo)\n",
    "    log_each=5, \n",
    "    checkpoint_interval=5, \n",
    "    patience=2  # Detener si no hay mejora después de 10 épocas\n",
    ")"
   ]
  },
  {
   "cell_type": "markdown",
   "metadata": {},
   "source": [
    "### Explicación del código\n",
    "\n",
    "La función `cargar_y_evaluar_modelo` carga un modelo previamente entrenado y lo evalúa en un conjunto de validación:\n",
    "\n",
    "1. **Cargar el modelo:** Se cargan los pesos del modelo guardado con `model.load_state_dict`.\n",
    "2. **Evaluación:** \n",
    "   - El modelo se evalúa sobre el conjunto de validación (`val_loader`).\n",
    "   - Se calcula la pérdida y precisión por cada lote.\n",
    "   - La precisión se calcula como el porcentaje de predicciones correctas.\n",
    "3. **Resultado:** Retorna la precisión y la pérdida promedio.\n",
    "\n",
    "#### Uso:\n",
    "- Se crea un modelo con `build_model`, luego se evalúa con la función, pasando el modelo, los datos de validación, la función de pérdida y el dispositivo.\n",
    "\n",
    "El resultado son la precisión y pérdida promedio del modelo en el conjunto de validación."
   ]
  },
  {
   "cell_type": "code",
   "execution_count": 21,
   "metadata": {},
   "outputs": [
    {
     "name": "stderr",
     "output_type": "stream",
     "text": [
      "C:\\Users\\vladi\\AppData\\Local\\Temp\\ipykernel_27776\\3866792858.py:3: FutureWarning: You are using `torch.load` with `weights_only=False` (the current default value), which uses the default pickle module implicitly. It is possible to construct malicious pickle data which will execute arbitrary code during unpickling (See https://github.com/pytorch/pytorch/blob/main/SECURITY.md#untrusted-models for more details). In a future release, the default value for `weights_only` will be flipped to `True`. This limits the functions that could be executed during unpickling. Arbitrary objects will no longer be allowed to be loaded via this mode unless they are explicitly allowlisted by the user via `torch.serialization.add_safe_globals`. We recommend you start setting `weights_only=True` for any use case where you don't have full control of the loaded file. Please open an issue on GitHub for any issues related to this experimental feature.\n",
      "  model.load_state_dict(torch.load(model_path, map_location=device))\n"
     ]
    },
    {
     "name": "stdout",
     "output_type": "stream",
     "text": [
      "Precisión: 91.80% - Pérdida Promedio: 0.2375\n"
     ]
    }
   ],
   "source": [
    "def cargar_y_evaluar_modelo(model, model_path, val_loader, criterion, device):\n",
    "    # Cargar el modelo y sus pesos\n",
    "    model.load_state_dict(torch.load(model_path, map_location=device))\n",
    "    model.eval()  # Modo evaluación\n",
    "    \n",
    "    # Evaluación del modelo\n",
    "    total_loss = 0.0\n",
    "    correct = 0\n",
    "    total = 0\n",
    "\n",
    "    with torch.no_grad():\n",
    "        for images, labels in val_loader:\n",
    "            images, labels = images.to(device), labels.to(device, dtype=torch.long)\n",
    "            outputs = model(images)\n",
    "            loss = criterion(outputs, labels)\n",
    "            total_loss += loss.item()\n",
    "\n",
    "            _, predicted = torch.max(outputs, 1)\n",
    "            correct += (predicted == labels).sum().item()\n",
    "            total += labels.size(0)\n",
    "\n",
    "    accuracy = 100 * correct / total\n",
    "    avg_loss = total_loss / len(val_loader)\n",
    "\n",
    "    print(f'Precisión: {accuracy:.2f}% - Pérdida Promedio: {avg_loss:.4f}')\n",
    "    return accuracy, avg_loss\n",
    "\n",
    "# Cargar el modelo y evaluarlo\n",
    "model = build_model(input_size=64*64*3, hidden_size=128, output_size=len(label_mapping), dropout=0.5).to(device)\n",
    "accuracy, loss = cargar_y_evaluar_modelo(model, \"best_model_3.pth\", dataloader['val'], nn.CrossEntropyLoss(), device)"
   ]
  },
  {
   "cell_type": "markdown",
   "metadata": {},
   "source": [
    "### Explicación del código\n",
    "\n",
    "Este código selecciona una imagen aleatoria de un CSV, la predice con un modelo entrenado, y muestra la imagen junto con su predicción y clase real.\n",
    "\n",
    "1. **Lista de clases:** Se define una lista `class_names` con las clases de las flores (como \"astromelia\", \"cartucho\", etc.).\n",
    "   \n",
    "2. **Función `elegir_imagen_aleatoria`:** \n",
    "   - Lee el archivo CSV con las rutas y clases de las imágenes.\n",
    "   - Selecciona aleatoriamente una fila (imagen) y retorna su ruta y clase.\n",
    "\n",
    "3. **Función `predecir_imagen`:**\n",
    "   - Carga una imagen, la transforma para adaptarse al modelo, y la pasa por él para hacer la predicción.\n",
    "   - La clase predicha se convierte en su nombre usando `class_names`.\n",
    "\n",
    "4. **Cargar y evaluar el modelo:**\n",
    "   - Se carga un modelo preentrenado desde el archivo `\"best_model_3.pth\"`.\n",
    "   - La imagen aleatoria seleccionada se pasa al modelo para obtener una predicción.\n",
    "   \n",
    "5. **Visualización:**\n",
    "   - Se muestra la imagen junto con la predicción del modelo y la clase real.\n",
    "\n",
    "#### Resultado:\n",
    "El código predice la clase de una imagen aleatoria y muestra la imagen con su predicción y clase real en un gráfico."
   ]
  },
  {
   "cell_type": "code",
   "execution_count": 32,
   "metadata": {},
   "outputs": [
    {
     "name": "stderr",
     "output_type": "stream",
     "text": [
      "C:\\Users\\vladi\\AppData\\Local\\Temp\\ipykernel_27776\\2747038701.py:31: FutureWarning: You are using `torch.load` with `weights_only=False` (the current default value), which uses the default pickle module implicitly. It is possible to construct malicious pickle data which will execute arbitrary code during unpickling (See https://github.com/pytorch/pytorch/blob/main/SECURITY.md#untrusted-models for more details). In a future release, the default value for `weights_only` will be flipped to `True`. This limits the functions that could be executed during unpickling. Arbitrary objects will no longer be allowed to be loaded via this mode unless they are explicitly allowlisted by the user via `torch.serialization.add_safe_globals`. We recommend you start setting `weights_only=True` for any use case where you don't have full control of the loaded file. Please open an issue on GitHub for any issues related to this experimental feature.\n",
      "  model.load_state_dict(torch.load(\"best_model_3.pth\", map_location=device))\n"
     ]
    },
    {
     "data": {
      "image/png": "[encoded data removed]",
      "text/plain": [
       "<Figure size 640x480 with 1 Axes>"
      ]
     },
     "metadata": {},
     "output_type": "display_data"
    }
   ],
   "source": [
    "import matplotlib.pyplot as plt\n",
    "\n",
    "# Lista de clases\n",
    "class_names = [\"astromelia\", \"cartucho\", \"chapulin\", \"lirio\", \"obispo\"]\n",
    "\n",
    "def elegir_imagen_aleatoria(csv_path=\"dataset_flores.csv\"):\n",
    "    \"\"\"Selecciona aleatoriamente una imagen desde un CSV con rutas y clases.\"\"\"\n",
    "    df = pd.read_csv(csv_path)\n",
    "    \n",
    "    if df.empty:\n",
    "        return None, None\n",
    "    \n",
    "    fila = df.sample(n=1).iloc[0]  # Seleccionar una fila aleatoria\n",
    "    return fila[\"image_path\"], fila[\"label\"]\n",
    "\n",
    "def predecir_imagen(model, image_path, class_names, device):\n",
    "    \"\"\"Carga una imagen, la pasa por el modelo y devuelve la predicción.\"\"\"\n",
    "    image = Image.open(image_path).convert(\"RGB\")  # Cargar la imagen\n",
    "    image_tensor = transform(image).unsqueeze(0).to(device)  # Aplicar transformaciones\n",
    "\n",
    "    model.eval()\n",
    "    with torch.no_grad():\n",
    "        outputs = model(image_tensor)\n",
    "        _, predicted = torch.max(outputs, 1)  # Obtener la clase con mayor probabilidad\n",
    "\n",
    "    prediccion = class_names[predicted.item()]  # Convertir índice a nombre de clase\n",
    "    return image, prediccion\n",
    "\n",
    "# Cargar modelo guardado\n",
    "model = build_model(input_size=64*64*3, hidden_size=128, output_size=len(class_names), dropout=0.5).to(device)\n",
    "model.load_state_dict(torch.load(\"best_model_3.pth\", map_location=device))\n",
    "model.eval()\n",
    "\n",
    "# Predecir una imagen aleatoria desde el CSV\n",
    "image_path, clase_real = elegir_imagen_aleatoria()\n",
    "if image_path:\n",
    "    image, prediccion = predecir_imagen(model, image_path, class_names, device)\n",
    "\n",
    "    # Mostrar la imagen con su predicción y clase real\n",
    "    plt.imshow(image)\n",
    "    plt.title(f'Predicción: {prediccion} (Real: {clase_real})')\n",
    "    plt.axis('off')\n",
    "    plt.show()\n",
    "else:\n",
    "    print(\"No se encontraron imágenes en el CSV.\")"
   ]
  }
 ],
 "metadata": {
  "kernelspec": {
   "display_name": "entorno",
   "language": "python",
   "name": "python3"
  },
  "language_info": {
   "codemirror_mode": {
    "name": "ipython",
    "version": 3
   },
   "file_extension": ".py",
   "mimetype": "text/x-python",
   "name": "python",
   "nbconvert_exporter": "python",
   "pygments_lexer": "ipython3",
   "version": "3.10.0"
  }
 },
 "nbformat": 4,
 "nbformat_minor": 2
}
